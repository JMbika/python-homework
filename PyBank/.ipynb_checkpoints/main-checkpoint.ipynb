{
 "cells": [
  {
   "cell_type": "code",
   "execution_count": 4,
   "metadata": {},
   "outputs": [
    {
     "name": "stdout",
     "output_type": "stream",
     "text": [
      "Financial Analysis\n",
      "-------------------------\n",
      "Total Months: 86\n",
      "Total: $38382578\n",
      "Average Change: $-2315.12\n",
      "Greatest Increase in Profits: Feb-2012 ($1926159)\n",
      "Greatest Decrease in Profits: Sep-2013 ($-2196167)\n"
     ]
    }
   ],
   "source": [
    "from pathlib import Path\n",
    "import csv\n",
    "import math\n",
    "\n",
    "csvpath = Path('budget_data.csv')\n",
    "dates = []\n",
    "profit_losses = []\n",
    "\n",
    "with open(csvpath, 'r') as csvfile:\n",
    "    #print(type(csvfile))\n",
    "    csvreader = csv.reader(csvfile)\n",
    "    #print(type(csvreader))\n",
    "    header = next(csvreader)\n",
    "    #print(f\"{header} <---- Header\")\n",
    "    \n",
    "    for row in csvreader:\n",
    "        #print(row)\n",
    "        date = (row[0])\n",
    "        dates.append(date)\n",
    "        profit_loss = int(row[1])\n",
    "        profit_losses.append(profit_loss)\n",
    "        \n",
    "#total number of months included in the dataset       \n",
    "total_months = len(dates)\n",
    "\n",
    "#net total amount of Profit/Losses over the entire period.\n",
    "net_total_amount = sum(profit_losses)\n",
    "\n",
    "#average of the changes in Profit/Losses over the entire period.\n",
    "monthly_profits = []\n",
    "\n",
    "for monthly_profit in range(len(profit_losses)-1):\n",
    "    profit_change = profit_losses[monthly_profit + 1] - profit_losses[monthly_profit]\n",
    "    monthly_profits.append(profit_change)\n",
    "    \n",
    "average_change = round(sum(monthly_profits)/len(monthly_profits),2)\n",
    "\n",
    "#The greatest increase in profits (date and amount) over the entire period\n",
    "greatest_increase_amount = max(monthly_profits)\n",
    "greatest_increase_month = (monthly_profits.index(greatest_increase_amount) + 1)\n",
    "\n",
    "#The greatest decrease in losses (date and amount) over the entire period\n",
    "greatest_decrease_amount = min(monthly_profits)\n",
    "greatest_decrease_month = (monthly_profits.index(greatest_decrease_amount) + 1)\n",
    "\n",
    "print(\"Financial Analysis\")\n",
    "print(\"-------------------------\")\n",
    "print(f\"Total Months: {total_months}\") \n",
    "print(f\"Total: ${net_total_amount}\")\n",
    "print(f\"Average Change: ${average_change}\")\n",
    "print(f\"Greatest Increase in Profits: {dates[greatest_increase_month]} (${greatest_increase_amount})\")\n",
    "print(f\"Greatest Decrease in Profits: {dates[greatest_decrease_month]} (${greatest_decrease_amount})\")\n",
    "\n",
    "#final script export\n",
    "filepath = Path(\"../PyBank/Financial Analysis.txt\")\n",
    "\n",
    "with open(filepath, 'w') as file:\n",
    "    file.write(\"Financial Analysis\\n\")\n",
    "    file.write(\"-------------------------\\n\")\n",
    "    file.write(f\"Total Months: {total_months}\\n\")\n",
    "    file.write(f\"Total: ${net_total_amount}\\n\")\n",
    "    file.write(f\"Average Change: ${average_change}\\n\")\n",
    "    file.write(f\"Greatest Increase in Profits: {dates[greatest_increase_month]} (${greatest_increase_amount})\\n\")\n",
    "    file.write(f\"Greatest Decrease in Profits: {dates[greatest_decrease_month]} (${greatest_decrease_amount})\")\n",
    "    \n",
    "    \n"
   ]
  }
 ],
 "metadata": {
  "kernelspec": {
   "display_name": "Python 3",
   "language": "python",
   "name": "python3"
  },
  "language_info": {
   "codemirror_mode": {
    "name": "ipython",
    "version": 3
   },
   "file_extension": ".py",
   "mimetype": "text/x-python",
   "name": "python",
   "nbconvert_exporter": "python",
   "pygments_lexer": "ipython3",
   "version": "3.8.3"
  }
 },
 "nbformat": 4,
 "nbformat_minor": 4
}
